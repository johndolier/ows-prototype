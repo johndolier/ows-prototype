{
 "cells": [
  {
   "cell_type": "markdown",
   "metadata": {},
   "source": [
    "# STAC Items Download\n",
    "\n",
    "This notebook provides a simple functionality to download STAC items from a public STAC API. \n",
    "\n",
    "The parameters for the STAC item search are pasted into the notebook automatically. "
   ]
  },
  {
   "cell_type": "code",
   "execution_count": null,
   "metadata": {
    "vscode": {
     "languageId": "plaintext"
    }
   },
   "outputs": [],
   "source": [
    "# Uncomment this block in case the necessary libraries are already installed in your environment!\n",
    "\n",
    "!pip install pystac_client\n",
    "!pip install planetary_computer"
   ]
  },
  {
   "cell_type": "code",
   "execution_count": null,
   "metadata": {
    "vscode": {
     "languageId": "plaintext"
    }
   },
   "outputs": [],
   "source": [
    "import pystac\n",
    "from pystac import Catalog\n",
    "from datetime import datetime"
   ]
  },
  {
   "cell_type": "code",
   "execution_count": null,
   "metadata": {
    "vscode": {
     "languageId": "plaintext"
    }
   },
   "outputs": [],
   "source": [
    "'''\n",
    "    Helper function to fetch pystac.Catalog object\n",
    "    special case: planetary computer catalog (-> sign inplace)\n",
    "'''\n",
    "\n",
    "def get_catalog(catalog_url:str):\n",
    "    if \"planetarycomputer\" in catalog_url:\n",
    "        # special case -> set modifier\n",
    "        return pystac_client.Client.open(\n",
    "            catalog_url, \n",
    "            modifier=planetary_computer.sign_inplace\n",
    "        )\n",
    "    \n",
    "    return pystac_client.Client.open(\n",
    "        catalog_url\n",
    "    )"
   ]
  },
  {
   "cell_type": "markdown",
   "metadata": {},
   "source": [
    "### Load Catalog and search items with parameters"
   ]
  },
  {
   "cell_type": "code",
   "execution_count": null,
   "metadata": {
    "vscode": {
     "languageId": "plaintext"
    }
   },
   "outputs": [],
   "source": [
    "# pasting parameters into python variables\n",
    "\n",
    "catalog_url = \"{{api_link}}\"\n",
    "geojson = {{location}}\n",
    "\n",
    "timerange = []\n",
    "time_start_str = \"{{time_start}}\"\n",
    "if time_start_str:\n",
    "    time_start = datetime.strptime({{time_start_str}}, \"\")\n",
    "    timerange.append(time_start)\n",
    "time_end_str = \"{{time_end}}\"\n",
    "if time_end_str:\n",
    "    time_end = datetime.strptime({{time_end_str}}, \"\")\n",
    "    timerange.append(time_end)\n",
    "\n",
    "item_limit = {{item_limit}}"
   ]
  },
  {
   "cell_type": "code",
   "execution_count": null,
   "metadata": {
    "vscode": {
     "languageId": "plaintext"
    }
   },
   "outputs": [],
   "source": [
    "catalog = get_catalog(catalog_url)"
   ]
  },
  {
   "cell_type": "code",
   "execution_count": null,
   "metadata": {
    "vscode": {
     "languageId": "plaintext"
    }
   },
   "outputs": [],
   "source": [
    "# search items in catalog\n",
    "search_items = catalog.search(\n",
    "    max_items = item_limit, \n",
    "    collections = collection_id, \n",
    "    intersects = geojson, \n",
    "    datetime = [], \n",
    ")"
   ]
  },
  {
   "cell_type": "markdown",
   "metadata": {},
   "source": [
    "### Access Item data "
   ]
  },
  {
   "cell_type": "code",
   "execution_count": null,
   "metadata": {
    "vscode": {
     "languageId": "plaintext"
    }
   },
   "outputs": [],
   "source": [
    "### YOUR CODE GOES HERE ###\n",
    "\n",
    "# this is an example code snippet for iterating over stac items and fetching name and LINKS\n",
    "for item in search_items.items():\n",
    "    item_dict = item.__dict__\n",
    "    for k, v in item_dict.items():\n",
    "        print(k)"
   ]
  }
 ],
 "metadata": {
  "language_info": {
   "name": "python"
  }
 },
 "nbformat": 4,
 "nbformat_minor": 2
}
