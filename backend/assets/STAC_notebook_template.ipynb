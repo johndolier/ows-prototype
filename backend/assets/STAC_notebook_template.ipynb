{
 "cells": [
  {
   "cell_type": "markdown",
   "metadata": {},
   "source": [
    "# STAC Items Download\n",
    "\n",
    "This notebook provides a simple functionality to download STAC items from a public STAC API. \n",
    "\n",
    "The parameters for the STAC item search are pasted into the notebook automatically. "
   ]
  },
  {
   "cell_type": "code",
   "execution_count": null,
   "metadata": {
    "vscode": {
     "languageId": "plaintext"
    }
   },
   "outputs": [],
   "source": [
    "# Uncomment this block in case the necessary libraries are already installed in your environment!\n",
    "\n",
    "!pip install pystac_client\n",
    "!pip install planetary_computer"
   ]
  },
  {
   "cell_type": "code",
   "execution_count": null,
   "metadata": {
    "vscode": {
     "languageId": "plaintext"
    }
   },
   "outputs": [],
   "source": [
    "from datetime import datetime, timedelta\n",
    "import pystac_client\n",
    "import planetary_computer"
   ]
  },
  {
   "cell_type": "markdown",
   "metadata": {},
   "source": [
    "## Helper Functions\n",
    "This helper function returns the catalog from the catalog url and is used to handle Planetary computer modifier and other modifiers if needed."
   ]
  },
  {
   "cell_type": "code",
   "execution_count": null,
   "metadata": {
    "vscode": {
     "languageId": "plaintext"
    }
   },
   "outputs": [],
   "source": [
    "### add functionality if necessary\n",
    "def get_catalog(catalog_url:str):\n",
    "    if \"planetarycomputer\" in catalog_url:\n",
    "        # special case -> set modifier\n",
    "        return pystac_client.Client.open(\n",
    "            catalog_url, \n",
    "            modifier=planetary_computer.sign_inplace\n",
    "        )\n",
    "    \n",
    "    return pystac_client.Client.open(\n",
    "        catalog_url\n",
    "    )"
   ]
  },
  {
   "cell_type": "code",
   "execution_count": null,
   "metadata": {
    "vscode": {
     "languageId": "plaintext"
    }
   },
   "outputs": [],
   "source": [
    "### PARSE ARGUMENTS FROM SCRIPT\n",
    "\n",
    "# api link\n",
    "catalog_url = \"<<api_link>>\"\n",
    "\n",
    "# stac collection id\n",
    "stac_collection_id = \"<<stac_collection_id>>\"\n",
    "\n",
    "# location (geojson polygon)\n",
    "location_geojson = {\"coordinates\": <<coordinates>>, \"type\": \"MultiPolygon\"}\n"
   ]
  },
  {
   "cell_type": "code",
   "execution_count": null,
   "metadata": {
    "vscode": {
     "languageId": "plaintext"
    }
   },
   "outputs": [],
   "source": [
    "### PARSE TIME ARGUMENTS (OPTIONAL)\n"
   ]
  },
  {
   "cell_type": "markdown",
   "metadata": {},
   "source": [
    "### Load Catalog and search items with parameters"
   ]
  },
  {
   "cell_type": "code",
   "execution_count": null,
   "metadata": {
    "vscode": {
     "languageId": "plaintext"
    }
   },
   "outputs": [],
   "source": [
    "catalog = get_catalog(catalog_url)"
   ]
  },
  {
   "cell_type": "code",
   "execution_count": null,
   "metadata": {
    "vscode": {
     "languageId": "plaintext"
    }
   },
   "outputs": [],
   "source": [
    "# search items in catalog\n",
    "search_items = catalog.search(\n",
    "    collections = stac_collection_id, \n",
    "    intersects = location_geojson, \n",
    "    datetime = time_range, \n",
    ")"
   ]
  },
  {
   "cell_type": "markdown",
   "metadata": {},
   "source": [
    "### Access Item data "
   ]
  },
  {
   "cell_type": "code",
   "execution_count": null,
   "metadata": {
    "vscode": {
     "languageId": "plaintext"
    }
   },
   "outputs": [],
   "source": [
    "### YOUR CODE GOES HERE ###\n",
    "\n",
    "# this is an example code snippet for iterating over stac items and fetching name and LINKS\n",
    "for item in search_items.items():\n",
    "    print(item)\n",
    "    \n",
    "    ### FURTHER PROCESS ITEM ASSETS HERE"
   ]
  }
 ],
 "metadata": {
  "kernelspec": {
   "display_name": "Python 3 (ipykernel)",
   "language": "python",
   "name": "python3"
  },
  "language_info": {
   "codemirror_mode": {
    "name": "ipython",
    "version": 3
   },
   "file_extension": ".py",
   "mimetype": "text/x-python",
   "name": "python",
   "nbconvert_exporter": "python",
   "pygments_lexer": "ipython3",
   "version": "3.11.5"
  }
 },
 "nbformat": 4,
 "nbformat_minor": 2
}
