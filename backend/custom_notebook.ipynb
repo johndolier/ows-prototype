{
 "cells": [
  {
   "cell_type": "markdown",
   "metadata": {},
   "source": [
    "# STAC Items Download\n",
    "\n",
    "This notebook provides a simple functionality to download STAC items from a public STAC API. "
   ]
  },
  {
   "cell_type": "code",
   "execution_count": null,
   "metadata": {
    "vscode": {
     "languageId": "plaintext"
    }
   },
   "outputs": [],
   "source": [
    "import pystac\n",
    "from pystac import Catalog\n",
    "from datetime import datetime"
   ]
  },
  {
   "cell_type": "code",
   "execution_count": null,
   "metadata": {
    "vscode": {
     "languageId": "plaintext"
    }
   },
   "outputs": [],
   "source": [
    "catalog_url = \"https://planetarycomputer.microsoft.com/api/stac/v1\"\n",
    "geojson = {'type': 'polygon', 'coordiantes': [1, [2, 3], [4], 5]}\n",
    "timestamp = datetime.strptime(2023-11-09 15:40:52.935582, \"%m/%d/%Y, %H:%M:%S\")\n",
    "item_limit = 10"
   ]
  },
  {
   "cell_type": "code",
   "execution_count": null,
   "metadata": {
    "vscode": {
     "languageId": "plaintext"
    }
   },
   "outputs": [],
   "source": []
  }
 ],
 "metadata": {
  "language_info": {
   "name": "python"
  }
 },
 "nbformat": 4,
 "nbformat_minor": 2
}
